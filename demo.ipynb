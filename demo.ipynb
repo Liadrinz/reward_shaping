{
 "cells": [
  {
   "cell_type": "code",
   "execution_count": 1,
   "source": [
    "import numpy as np\r\n",
    "\r\n",
    "Q = np.array([[11, 12, 13, 14], [21, 22, 23, 24]])\r\n",
    "W = np.array([[0, 0, 0, 0],[1, 0, 0, 0],[0, 1, 0, 0],[0, 0, 1, 0]])"
   ],
   "outputs": [],
   "metadata": {}
  },
  {
   "cell_type": "code",
   "execution_count": 2,
   "source": [
    "Q@W"
   ],
   "outputs": [
    {
     "output_type": "execute_result",
     "data": {
      "text/plain": [
       "array([[12, 13, 14,  0],\n",
       "       [22, 23, 24,  0]])"
      ]
     },
     "metadata": {},
     "execution_count": 2
    }
   ],
   "metadata": {}
  },
  {
   "cell_type": "code",
   "execution_count": null,
   "source": [],
   "outputs": [],
   "metadata": {}
  }
 ],
 "metadata": {
  "orig_nbformat": 4,
  "language_info": {
   "name": "python",
   "version": "3.9.0",
   "mimetype": "text/x-python",
   "codemirror_mode": {
    "name": "ipython",
    "version": 3
   },
   "pygments_lexer": "ipython3",
   "nbconvert_exporter": "python",
   "file_extension": ".py"
  },
  "kernelspec": {
   "name": "python3",
   "display_name": "Python 3.9.0 64-bit"
  },
  "interpreter": {
   "hash": "1bb53210e1d0f1e970ea250e9372557414e64d7736f9fea8913b01bad5249fa3"
  }
 },
 "nbformat": 4,
 "nbformat_minor": 2
}